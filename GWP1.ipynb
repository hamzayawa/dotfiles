{
  "nbformat": 4,
  "nbformat_minor": 0,
  "metadata": {
    "colab": {
      "provenance": [],
      "include_colab_link": true
    },
    "kernelspec": {
      "name": "python3",
      "display_name": "Python 3"
    },
    "language_info": {
      "name": "python"
    }
  },
  "cells": [
    {
      "cell_type": "markdown",
      "metadata": {
        "id": "view-in-github",
        "colab_type": "text"
      },
      "source": [
        "<a href=\"https://colab.research.google.com/github/hamzayawa/dotfiles/blob/master/GWP1.ipynb\" target=\"_parent\"><img src=\"https://colab.research.google.com/assets/colab-badge.svg\" alt=\"Open In Colab\"/></a>"
      ]
    },
    {
      "cell_type": "code",
      "execution_count": null,
      "metadata": {
        "id": "keCNTKpjas6Z",
        "colab": {
          "base_uri": "https://localhost:8080/"
        },
        "outputId": "62b43473-1e8a-4f65-bd7e-1ec62a3edbdc"
      },
      "outputs": [
        {
          "output_type": "stream",
          "name": "stderr",
          "text": [
            "\r[*********************100%%**********************]  1 of 1 completed"
          ]
        },
        {
          "output_type": "stream",
          "name": "stdout",
          "text": [
            "                  Open        High         Low       Close   Adj Close  Volume\n",
            "Date                                                                          \n",
            "1993-01-01   59.939999   60.599998   59.099998   60.419998   11.783098       0\n",
            "1993-02-01   60.959999   61.919998   59.639999   61.259998   11.946925       0\n",
            "1993-03-01   61.080002   63.060001   61.080002   62.459999   12.180939       0\n",
            "1993-04-01   62.340000   62.340000   60.000000   60.900002   11.876715       0\n",
            "1993-05-01   61.200001   62.820000   60.840000   62.400002   12.188008       0\n",
            "...                ...         ...         ...         ...         ...     ...\n",
            "2023-12-01  241.539993  248.250000  222.000000  225.429993  201.746246       0\n",
            "2024-01-01  224.160004  233.059998  221.630005  229.179993  228.508163       0\n",
            "2024-02-01  232.059998  241.380005  232.059998  241.380005  240.672409       0\n",
            "2024-03-01  243.330002  248.399994  240.559998  248.399994  247.671814       0\n",
            "2024-04-01  247.899994  247.899994  242.320007  242.320007  242.320007       0\n",
            "\n",
            "[376 rows x 6 columns]\n"
          ]
        },
        {
          "output_type": "stream",
          "name": "stderr",
          "text": [
            "\n"
          ]
        }
      ],
      "source": [
        "# Qihu Zhang\n",
        "\n",
        "import yfinance as yf\n",
        "\n",
        "# Download historical data for SVSPX\n",
        "SVSPX = yf.download('SVSPX', start='1980-01-01', end='2024-04-13', interval='1mo')\n",
        "\n",
        "# Print the first few rows of the data\n",
        "# print(data.head())\n",
        "print(SVSPX)"
      ]
    },
    {
      "cell_type": "code",
      "source": [
        "SVSPX[\"Return\"] = ((SVSPX[\"Adj Close\"]) - (SVSPX[\"Adj Close\"].shift(1)))/(SVSPX[\"Adj Close\"])\n",
        "# SVSPX=SVSPX.dropna()\n",
        "print(SVSPX)"
      ],
      "metadata": {
        "colab": {
          "base_uri": "https://localhost:8080/"
        },
        "id": "hZ2Aisczk5Pr",
        "outputId": "98e9da00-e456-4f61-fe0c-085dc1e4c35e"
      },
      "execution_count": null,
      "outputs": [
        {
          "output_type": "stream",
          "name": "stdout",
          "text": [
            "                  Open        High         Low       Close   Adj Close  \\\n",
            "Date                                                                     \n",
            "1993-01-01   59.939999   60.599998   59.099998   60.419998   11.783098   \n",
            "1993-02-01   60.959999   61.919998   59.639999   61.259998   11.946925   \n",
            "1993-03-01   61.080002   63.060001   61.080002   62.459999   12.180939   \n",
            "1993-04-01   62.340000   62.340000   60.000000   60.900002   11.876715   \n",
            "1993-05-01   61.200001   62.820000   60.840000   62.400002   12.188008   \n",
            "...                ...         ...         ...         ...         ...   \n",
            "2023-12-01  241.539993  248.250000  222.000000  225.429993  201.746246   \n",
            "2024-01-01  224.160004  233.059998  221.630005  229.179993  228.508163   \n",
            "2024-02-01  232.059998  241.380005  232.059998  241.380005  240.672409   \n",
            "2024-03-01  243.330002  248.399994  240.559998  248.399994  247.671814   \n",
            "2024-04-01  247.899994  247.899994  242.320007  242.320007  242.320007   \n",
            "\n",
            "            Volume    Return  \n",
            "Date                          \n",
            "1993-01-01       0       NaN  \n",
            "1993-02-01       0  0.013713  \n",
            "1993-03-01       0  0.019211  \n",
            "1993-04-01       0 -0.025615  \n",
            "1993-05-01       0  0.025541  \n",
            "...            ...       ...  \n",
            "2023-12-01       0 -0.065076  \n",
            "2024-01-01       0  0.117116  \n",
            "2024-02-01       0  0.050543  \n",
            "2024-03-01       0  0.028261  \n",
            "2024-04-01       0 -0.022086  \n",
            "\n",
            "[376 rows x 7 columns]\n"
          ]
        }
      ]
    },
    {
      "cell_type": "code",
      "source": [
        "SVSPX=SVSPX.dropna()\n",
        "SVSPX.reset_index(drop=True, inplace=True)\n",
        "print(SVSPX)"
      ],
      "metadata": {
        "colab": {
          "base_uri": "https://localhost:8080/"
        },
        "id": "pxjuKAvGmSXr",
        "outputId": "dc01807f-1566-455d-8c06-d2f1afc26633"
      },
      "execution_count": null,
      "outputs": [
        {
          "output_type": "stream",
          "name": "stdout",
          "text": [
            "           Open        High         Low       Close   Adj Close  Volume  \\\n",
            "0     60.959999   61.919998   59.639999   61.259998   11.946925       0   \n",
            "1     61.080002   63.060001   61.080002   62.459999   12.180939       0   \n",
            "2     62.340000   62.340000   60.000000   60.900002   11.876715       0   \n",
            "3     61.200001   62.820000   60.840000   62.400002   12.188008       0   \n",
            "4     62.880001   62.939999   61.560001   62.639999   12.234887       0   \n",
            "..          ...         ...         ...         ...         ...     ...   \n",
            "370  241.539993  248.250000  222.000000  225.429993  201.746246       0   \n",
            "371  224.160004  233.059998  221.630005  229.179993  228.508163       0   \n",
            "372  232.059998  241.380005  232.059998  241.380005  240.672409       0   \n",
            "373  243.330002  248.399994  240.559998  248.399994  247.671814       0   \n",
            "374  247.899994  247.899994  242.320007  242.320007  242.320007       0   \n",
            "\n",
            "       Return  \n",
            "0    0.013713  \n",
            "1    0.019211  \n",
            "2   -0.025615  \n",
            "3    0.025541  \n",
            "4    0.003832  \n",
            "..        ...  \n",
            "370 -0.065076  \n",
            "371  0.117116  \n",
            "372  0.050543  \n",
            "373  0.028261  \n",
            "374 -0.022086  \n",
            "\n",
            "[375 rows x 7 columns]\n"
          ]
        }
      ]
    },
    {
      "cell_type": "code",
      "source": [
        "pip install pandas_datareader"
      ],
      "metadata": {
        "colab": {
          "base_uri": "https://localhost:8080/"
        },
        "id": "MH2yWgk7Bgvx",
        "outputId": "788a790b-9ded-43eb-ea8c-3fc048c69080"
      },
      "execution_count": null,
      "outputs": [
        {
          "output_type": "stream",
          "name": "stdout",
          "text": [
            "Requirement already satisfied: pandas_datareader in /usr/local/lib/python3.10/dist-packages (0.10.0)\n",
            "Requirement already satisfied: lxml in /usr/local/lib/python3.10/dist-packages (from pandas_datareader) (4.9.4)\n",
            "Requirement already satisfied: pandas>=0.23 in /usr/local/lib/python3.10/dist-packages (from pandas_datareader) (2.0.3)\n",
            "Requirement already satisfied: requests>=2.19.0 in /usr/local/lib/python3.10/dist-packages (from pandas_datareader) (2.31.0)\n",
            "Requirement already satisfied: python-dateutil>=2.8.2 in /usr/local/lib/python3.10/dist-packages (from pandas>=0.23->pandas_datareader) (2.8.2)\n",
            "Requirement already satisfied: pytz>=2020.1 in /usr/local/lib/python3.10/dist-packages (from pandas>=0.23->pandas_datareader) (2023.4)\n",
            "Requirement already satisfied: tzdata>=2022.1 in /usr/local/lib/python3.10/dist-packages (from pandas>=0.23->pandas_datareader) (2024.1)\n",
            "Requirement already satisfied: numpy>=1.21.0 in /usr/local/lib/python3.10/dist-packages (from pandas>=0.23->pandas_datareader) (1.25.2)\n",
            "Requirement already satisfied: charset-normalizer<4,>=2 in /usr/local/lib/python3.10/dist-packages (from requests>=2.19.0->pandas_datareader) (3.3.2)\n",
            "Requirement already satisfied: idna<4,>=2.5 in /usr/local/lib/python3.10/dist-packages (from requests>=2.19.0->pandas_datareader) (3.6)\n",
            "Requirement already satisfied: urllib3<3,>=1.21.1 in /usr/local/lib/python3.10/dist-packages (from requests>=2.19.0->pandas_datareader) (2.0.7)\n",
            "Requirement already satisfied: certifi>=2017.4.17 in /usr/local/lib/python3.10/dist-packages (from requests>=2.19.0->pandas_datareader) (2024.2.2)\n",
            "Requirement already satisfied: six>=1.5 in /usr/local/lib/python3.10/dist-packages (from python-dateutil>=2.8.2->pandas>=0.23->pandas_datareader) (1.16.0)\n"
          ]
        }
      ]
    },
    {
      "cell_type": "code",
      "source": [
        "import pandas_datareader as pdr\n",
        "# Importing the pandas_datareader library\n",
        "# This library is used to retrieve data from various online sources\n",
        "\n",
        "# Specify the data source as FRED (Federal Reserve Economic Data)\n",
        "# Choose 'FEDFUNDS' (Federal Funds Effective Rate) and download the data\n",
        "FEDFUNDS = pdr.get_data_fred('FEDFUNDS', start='1993-01-01', end='2024-04-13')\n",
        "\n",
        "# Printing the first few rows of the data\n",
        "# print(data.head())\n",
        "print(FEDFUNDS)"
      ],
      "metadata": {
        "colab": {
          "base_uri": "https://localhost:8080/"
        },
        "id": "KXugCCbnBkck",
        "outputId": "aec88178-c887-4656-ec39-4dab166425c8"
      },
      "execution_count": null,
      "outputs": [
        {
          "output_type": "stream",
          "name": "stdout",
          "text": [
            "            FEDFUNDS\n",
            "DATE                \n",
            "1993-01-01      3.02\n",
            "1993-02-01      3.03\n",
            "1993-03-01      3.07\n",
            "1993-04-01      2.96\n",
            "1993-05-01      3.00\n",
            "...              ...\n",
            "2023-11-01      5.33\n",
            "2023-12-01      5.33\n",
            "2024-01-01      5.33\n",
            "2024-02-01      5.33\n",
            "2024-03-01      5.33\n",
            "\n",
            "[375 rows x 1 columns]\n"
          ]
        }
      ]
    },
    {
      "cell_type": "code",
      "source": [
        "FEDFUNDS.reset_index(drop=False, inplace=True)\n",
        "\n",
        "print(FEDFUNDS)"
      ],
      "metadata": {
        "colab": {
          "base_uri": "https://localhost:8080/"
        },
        "id": "TNRO4dchr5J9",
        "outputId": "db76b61a-866d-47cb-81ee-c5072fa4930f"
      },
      "execution_count": null,
      "outputs": [
        {
          "output_type": "stream",
          "name": "stdout",
          "text": [
            "          DATE  FEDFUNDS\n",
            "0   1993-01-01      3.02\n",
            "1   1993-02-01      3.03\n",
            "2   1993-03-01      3.07\n",
            "3   1993-04-01      2.96\n",
            "4   1993-05-01      3.00\n",
            "..         ...       ...\n",
            "370 2023-11-01      5.33\n",
            "371 2023-12-01      5.33\n",
            "372 2024-01-01      5.33\n",
            "373 2024-02-01      5.33\n",
            "374 2024-03-01      5.33\n",
            "\n",
            "[375 rows x 2 columns]\n"
          ]
        }
      ]
    },
    {
      "cell_type": "code",
      "source": [
        "import pandas as pd\n",
        "combined_df = pd.concat([FEDFUNDS, SVSPX['Return']], axis=1)\n",
        "print(combined_df)"
      ],
      "metadata": {
        "colab": {
          "base_uri": "https://localhost:8080/"
        },
        "id": "C6FyNo1LqhiO",
        "outputId": "d9d8bc79-c592-4c3f-a322-35e86ecec6e8"
      },
      "execution_count": null,
      "outputs": [
        {
          "output_type": "stream",
          "name": "stdout",
          "text": [
            "          DATE  FEDFUNDS    Return\n",
            "0   1993-01-01      3.02  0.013713\n",
            "1   1993-02-01      3.03  0.019211\n",
            "2   1993-03-01      3.07 -0.025615\n",
            "3   1993-04-01      2.96  0.025541\n",
            "4   1993-05-01      3.00  0.003832\n",
            "..         ...       ...       ...\n",
            "370 2023-11-01      5.33 -0.065076\n",
            "371 2023-12-01      5.33  0.117116\n",
            "372 2024-01-01      5.33  0.050543\n",
            "373 2024-02-01      5.33  0.028261\n",
            "374 2024-03-01      5.33 -0.022086\n",
            "\n",
            "[375 rows x 3 columns]\n"
          ]
        }
      ]
    },
    {
      "cell_type": "code",
      "source": [
        "combined_df.set_index('DATE', inplace=True)\n",
        "\n",
        "print(combined_df)"
      ],
      "metadata": {
        "colab": {
          "base_uri": "https://localhost:8080/"
        },
        "id": "if876-CXuYM1",
        "outputId": "6429b1ec-591d-4238-9b24-6ca2befa2c76"
      },
      "execution_count": null,
      "outputs": [
        {
          "output_type": "stream",
          "name": "stdout",
          "text": [
            "            FEDFUNDS    Return\n",
            "DATE                          \n",
            "1993-01-01      3.02  0.013713\n",
            "1993-02-01      3.03  0.019211\n",
            "1993-03-01      3.07 -0.025615\n",
            "1993-04-01      2.96  0.025541\n",
            "1993-05-01      3.00  0.003832\n",
            "...              ...       ...\n",
            "2023-11-01      5.33 -0.065076\n",
            "2023-12-01      5.33  0.117116\n",
            "2024-01-01      5.33  0.050543\n",
            "2024-02-01      5.33  0.028261\n",
            "2024-03-01      5.33 -0.022086\n",
            "\n",
            "[375 rows x 2 columns]\n"
          ]
        }
      ]
    }
  ]
}